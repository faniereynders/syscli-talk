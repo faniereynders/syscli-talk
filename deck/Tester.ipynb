{
 "cells": [
  {
   "cell_type": "code",
   "execution_count": null,
   "metadata": {
    "dotnet_interactive": {
     "language": "csharp"
    },
    "vscode": {
     "languageId": "dotnet-interactive.csharp"
    }
   },
   "outputs": [
    {
     "data": {
      "text/html": [
       "<div><div></div><div></div><div><strong>Installed Packages</strong><ul><li><span>System.CommandLine, 2.0.0-beta4.22272.1</span></li></ul></div></div>"
      ]
     },
     "metadata": {},
     "output_type": "display_data"
    }
   ],
   "source": [
    "#r \"nuget: System.CommandLine, 2.0.0-beta4.22272.1\"\n",
    "\n",
    "using System.CommandLine;\n"
   ]
  },
  {
   "cell_type": "code",
   "execution_count": null,
   "metadata": {
    "dotnet_interactive": {
     "language": "csharp"
    },
    "vscode": {
     "languageId": "dotnet-interactive.csharp"
    }
   },
   "outputs": [
    {
     "name": "stderr",
     "output_type": "stream",
     "text": [
      "Required argument missing for option: '--file'.\r\n",
      "\r\n",
      "Description:\r\n",
      "  Sample app for System.CommandLine\r\n",
      "\r\n",
      "Usage:\r\n",
      "  Microsoft.DotNet.Interactive.App [options]\r\n",
      "\r\n",
      "Options:\r\n",
      "  --file <file>   The file to read and display on the console.\r\n",
      "  --version       Show version information\r\n",
      "  -?, -h, --help  Show help and usage information\r\n",
      "\r\n",
      "\r\n"
     ]
    },
    {
     "data": {
      "text/html": [
       "<div class=\"dni-plaintext\">1</div>"
      ]
     },
     "metadata": {},
     "output_type": "display_data"
    }
   ],
   "source": [
    "\n",
    "var args = \"--file\";\n",
    "\n",
    "var fileOption = new Option<FileInfo?>(\"--file\", \"The file to read and display on the console.\");\n",
    "\n",
    "var rootCommand = new RootCommand(\"Sample app for System.CommandLine\");\n",
    "\n",
    "rootCommand.AddOption(fileOption);\n",
    "\n",
    "rootCommand.SetHandler((file) => \n",
    "{\n",
    "    File.ReadLines(file.FullName)\n",
    "        .ToList()\n",
    "        .ForEach(line => Console.WriteLine(line));\n",
    "\n",
    "}, fileOption);\n",
    "\n",
    "return await rootCommand.InvokeAsync(args);\n",
    "\n"
   ]
  }
 ],
 "metadata": {
  "kernelspec": {
   "display_name": ".NET (C#)",
   "language": "C#",
   "name": ".net-csharp"
  },
  "language_info": {
   "file_extension": ".cs",
   "mimetype": "text/x-csharp",
   "name": "C#",
   "pygments_lexer": "csharp",
   "version": "9.0"
  },
  "orig_nbformat": 4
 },
 "nbformat": 4,
 "nbformat_minor": 2
}
